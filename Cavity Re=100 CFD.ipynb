# ======================================================
# Lid-Driven Cavity Flow Solver
# HIGHLY REFINED MESH (161x161) IMPLEMENTATION
# ======================================================

import numpy as np
import matplotlib.pyplot as plt
from matplotlib import cm
import time

def solve_lid_driven_cavity_highly_refined():
    """
    Solves the 2D Lid-Driven Cavity problem on a highly refined mesh (161x161)
    for improved accuracy and saves the resulting plots.
    """
    # --- 1. Setup Parameters (with a highly refined mesh) ---
    nx = 161  # <--- شبکه دو برابر ریزتر شد
    ny = 161  # <--- شبکه دو برابر ریزتر شد
    max_physical_time = 10.0
    nit = 50
    
    Lx = 1.0
    Ly = 1.0
    dx = Lx / (nx - 1)
    dy = Ly / (ny - 1)
    
    x = np.linspace(0, Lx, nx)
    y = np.linspace(0, Ly, ny)
    X, Y = np.meshgrid(x, y)
    
    # Physical Properties & Timestepping
    Re = 100.0
    nu = 1.0 / Re
    sigma = 0.2
    dt = sigma * min(dx**2 / nu, dy**2 / nu)
    
    print(f"Highly Refined Grid: {nx}x{ny}, Re: {Re}, Stable dt: {dt:.6f}")
    
    # --- 2. Initialize Fields ---
    u = np.zeros((ny, nx))
    v = np.zeros((ny, nx))
    p = np.zeros((ny, nx))
    
    # --- 3. Main Solver Loop ---
    print("Running simulation on highly refined mesh.")
    print("This will take a significant amount of time (est. 5-6 minutes)...")
    start_loop_time = time.time()
    
    t = 0
    step_count = 0
    total_steps = int(max_physical_time / dt)
    
    while t < max_physical_time:
        un = u.copy()
        vn = v.copy()

        # ... (Solver core remains unchanged) ...
        u_star = u.copy(); v_star = v.copy()
        u_star[1:-1, 1:-1] = (un[1:-1, 1:-1] + dt * (-un[1:-1, 1:-1] * (un[1:-1, 2:] - un[1:-1, :-2]) / (2 * dx) -vn[1:-1, 1:-1] * (un[2:, 1:-1] - un[:-2, 1:-1]) / (2 * dy) + nu * ((un[1:-1, 2:] - 2*un[1:-1, 1:-1] + un[1:-1, :-2]) / dx**2 + (un[2:, 1:-1] - 2*un[1:-1, 1:-1] + un[:-2, 1:-1]) / dy**2)))
        v_star[1:-1, 1:-1] = (vn[1:-1, 1:-1] + dt * (-un[1:-1, 1:-1] * (vn[1:-1, 2:] - vn[1:-1, :-2]) / (2 * dx) -vn[1:-1, 1:-1] * (vn[2:, 1:-1] - vn[:-2, 1:-1]) / (2 * dy) + nu * ((vn[1:-1, 2:] - 2*vn[1:-1, 1:-1] + vn[1:-1, :-2]) / dx**2 + (vn[2:, 1:-1] - 2*vn[1:-1, 1:-1] + vn[:-2, 1:-1]) / dy**2)))
        div_star = ((u_star[1:-1, 2:] - u_star[1:-1, :-2]) / (2*dx) + (v_star[2:, 1:-1] - v_star[:-2, 1:-1]) / (2*dy))
        rhs_p = (1.0 / dt) * div_star
        for _ in range(nit):
            pn = p.copy()
            p[1:-1, 1:-1] = (((pn[1:-1, 2:] + pn[1:-1, :-2]) * dy**2 + (pn[2:, 1:-1] + pn[:-2, 1:-1]) * dx**2 - rhs_p * dx**2 * dy**2) / (2 * (dx**2 + dy**2)))
            p[:, -1] = p[:, -2]; p[0, :] = p[1, :]; p[:, 0] = p[:, 1]; p[-1, :] = p[-2, :]
        u[1:-1, 1:-1] = u_star[1:-1, 1:-1] - (dt/1.0) * (p[1:-1, 2:] - p[1:-1, :-2]) / (2 * dx)
        v[1:-1, 1:-1] = v_star[1:-1, 1:-1] - (dt/1.0) * (p[2:, 1:-1] - p[:-2, 1:-1]) / (2 * dy)
        u[0, :] = 0; u[:, 0] = 0; u[:, -1] = 0; u[-1, :] = 1.0
        v[0, :] = 0; v[-1, :] = 0; v[:, 0] = 0; v[:, -1] = 0
        
        t += dt
        step_count += 1
        # Optional: Print progress
        if step_count % 1000 == 0:
            print(f"  Step: {step_count}/{total_steps}, Physical time: {t:.4f}s")
            
    end_loop_time = time.time()
    print(f"Simulation loop finished in {end_loop_time - start_loop_time:.2f} seconds.")
    return u, v, p, X, Y

# --- Main Execution Block ---
if name == "main":
    total_start_time = time.time()
    u_final, v_final, p_final, X, Y = solve_lid_driven_cavity_highly_refined()
    
    print("Generating and saving plots...")
    speed = np.sqrt(u_final**2 + v_final**2)
# --- PLOT 1: Full Domain Velocity Contour ---
    fig1 = plt.figure(figsize=(9, 8))
    plt.contourf(X, Y, speed, levels=40, cmap='coolwarm')
    plt.colorbar(label='Velocity Magnitude (m/s)')
    # Reduced density slightly for cleaner plot on fine mesh
    plt.streamplot(X, Y, u_final, v_final, color='black', linewidth=0.6, density=2.0) 
    plt.title('Velocity Contour on Highly Refined Grid (161x161) - Re=100') # <-- Updated title
    plt.xlabel('X-axis')
    plt.ylabel('Y-axis')
    plt.axis('equal'); plt.xlim(0, 1); plt.ylim(0, 1)
    
    plt.savefig('cavity_161x161_full_domain.png', dpi=300, bbox_inches='tight')
    print("Saved full domain plot to 'cavity_161x161_full_domain.png'")
    
    # --- PLOT 2: Zoom-in on Bottom-Left Corner ---
    fig2 = plt.figure(figsize=(6, 6))
    plt.streamplot(X, Y, u_final, v_final, color='black', linewidth=0.8, density=4)
    plt.title('Zoom-in on Bottom-Left Corner (161x161 Grid)') # <-- Updated title
    plt.xlabel('X-axis')
    plt.ylabel('Y-axis')
    plt.axis('equal'); plt.xlim(0, 0.2); plt.ylim(0, 0.2)
    plt.grid(True, linestyle='--', alpha=0.6)

    plt.savefig('cavity_161x161_corner_zoom.png', dpi=300, bbox_inches='tight')
    print("Saved corner zoom plot to 'cavity_161x161_corner_zoom.png'")
    
    total_end_time = time.time()
    print(f"Total script runtime: {total_end_time - total_start_time:.2f} seconds")

    plt.show()